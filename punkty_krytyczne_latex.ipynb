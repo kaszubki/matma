{
 "cells": [
  {
   "cell_type": "code",
   "execution_count": 1,
   "metadata": {
    "collapsed": true
   },
   "outputs": [],
   "source": [
    "import wolframalpha as WA\n",
    "my_appid = \"V4K7V9-KL5PK9LK5V\""
   ]
  },
  {
   "cell_type": "code",
   "execution_count": 2,
   "metadata": {
    "collapsed": true
   },
   "outputs": [],
   "source": [
    "client = WA.Client(my_appid)"
   ]
  },
  {
   "cell_type": "code",
   "execution_count": 3,
   "metadata": {
    "collapsed": false
   },
   "outputs": [],
   "source": [
    "function_string = \"x * y + 50 / x + 20 / y\"\n",
    "#function_string = raw_input()"
   ]
  },
  {
   "cell_type": "code",
   "execution_count": 4,
   "metadata": {
    "collapsed": true
   },
   "outputs": [],
   "source": [
    "variables = ['x', 'y', 'z', 't']\n",
    "variables = list(filter((lambda x : (function_string.find(x) != -1)), variables))"
   ]
  },
  {
   "cell_type": "code",
   "execution_count": 5,
   "metadata": {
    "collapsed": true
   },
   "outputs": [],
   "source": [
    "result = client.query(\"grad \" + function_string)"
   ]
  },
  {
   "cell_type": "code",
   "execution_count": 6,
   "metadata": {
    "collapsed": false
   },
   "outputs": [],
   "source": [
    "for pod in result.pods:\n",
    "    if pod.title.find(\"Result\") != -1:\n",
    "        s = pod.text\n",
    "        l = s.split('= ')\n",
    "        s = l[1]\n",
    "        l = s.split('\\n')\n",
    "        s = l[0]\n",
    "        if s[0] == '{':\n",
    "            s = s[1:-1]\n",
    "        l = s.split(', ')\n",
    "        derivatives = [l[i] for i in xrange(len(variables))]\n",
    "        break"
   ]
  },
  {
   "cell_type": "code",
   "execution_count": 7,
   "metadata": {
    "collapsed": false
   },
   "outputs": [],
   "source": [
    "derivatives = [s.replace(' ', '*') for s in derivatives]\n",
    "for oper in ['+', '-', '*', '/', '^']:\n",
    "    derivatives = [s.replace(oper, \" \" + oper + \" \") for s in derivatives]"
   ]
  },
  {
   "cell_type": "code",
   "execution_count": 8,
   "metadata": {
    "collapsed": false
   },
   "outputs": [],
   "source": [
    "#for s, zmienna in zip(derivatives, variables): \n",
    "#    print \"Pochodna po \" + zmienna + \" to: \" + s"
   ]
  },
  {
   "cell_type": "code",
   "execution_count": 9,
   "metadata": {
    "collapsed": false
   },
   "outputs": [],
   "source": [
    "query_cri = \"solve \"\n",
    "for i in xrange(len(derivatives) - 1):\n",
    "    query_cri = query_cri + \"(\" + derivatives[i] + \" = 0\" + \") \" + \"and \"\n",
    "query_cri = query_cri + \"(\" + derivatives[len(derivatives) - 1] + \" = 0\" + \")\"\n",
    "\n",
    "res_cri = client.query(query_cri)"
   ]
  },
  {
   "cell_type": "code",
   "execution_count": 10,
   "metadata": {
    "collapsed": false
   },
   "outputs": [],
   "source": [
    "critical_points = []\n",
    "for ple in res_cri.pods:\n",
    "    if ple.title == \"Results\" or ple.title == \"Result\":\n",
    "        for pleple in list(ple):\n",
    "            critical_points.append(pleple.text)"
   ]
  },
  {
   "cell_type": "code",
   "execution_count": 11,
   "metadata": {
    "collapsed": false
   },
   "outputs": [],
   "source": [
    "#print \"Punkty krytyczne:\"\n",
    "#print critical_points"
   ]
  },
  {
   "cell_type": "code",
   "execution_count": 12,
   "metadata": {
    "collapsed": true
   },
   "outputs": [],
   "source": [
    "###wyrzucanie zespolonych, powinno działać, chyba że wolfram dostanie downa\n",
    "\n",
    "critical_points = list(filter((lambda x : x.find('i') == -1), critical_points))"
   ]
  },
  {
   "cell_type": "code",
   "execution_count": 13,
   "metadata": {
    "collapsed": false
   },
   "outputs": [],
   "source": [
    "###konwertuj z syntaxy wolframowej do sympy'owej\n",
    "\n",
    "def convert_power(s):\n",
    "    return s.replace('^', '**')\n",
    "\n",
    "def convert_and(s):\n",
    "    l = s.split('and')\n",
    "    k = [convert_equal_sign(t) for t in l]\n",
    "    if len(k) == 1:\n",
    "        return k[0]\n",
    "    res = \"And(\"\n",
    "    for t in k: \n",
    "        res = res + t + \",\"\n",
    "    res = res[:-1]\n",
    "    res = res + \")\"\n",
    "    return res\n",
    "\n",
    "def get_rid_of_approximation(s):\n",
    "    if s.find(\"~\") == -1:\n",
    "        return s\n",
    "    l = s.split(\"~\")\n",
    "    return l[0]\n",
    "\n",
    "def convert_equal_sign(s):\n",
    "    if s.find(\"=\") == -1:\n",
    "        return s\n",
    "    s = get_rid_of_approximation(s)\n",
    "    l = s.split(\"=\")\n",
    "    return \"Eq(\" + l[0] + \",\" + l[1] + \")\"\n",
    "    \n",
    "function_string = convert_power(function_string)\n",
    "derivatives = [convert_power(s) for s in derivatives]\n",
    "critical_points = [convert_power(s) for s in critical_points]\n",
    "critical_points = [convert_and(s) for s in critical_points]"
   ]
  },
  {
   "cell_type": "code",
   "execution_count": 15,
   "metadata": {
    "collapsed": false
   },
   "outputs": [
    {
     "name": "stdout",
     "output_type": "stream",
     "text": [
      "Podsumowanie:\n",
      "\n",
      "Moja funkcja to \n"
     ]
    },
    {
     "data": {
      "text/latex": [
       "$$f{\\left (x,y \\right )} = x y + \\frac{20}{y} + \\frac{50}{x}$$"
      ],
      "text/plain": [
       "                20   50\n",
       "f(x, y) = x⋅y + ── + ──\n",
       "                y    x "
      ]
     },
     "metadata": {},
     "output_type": "display_data"
    },
    {
     "name": "stdout",
     "output_type": "stream",
     "text": [
      "\n",
      "Pochodna po x to: \n"
     ]
    },
    {
     "data": {
      "text/latex": [
       "$$\\frac{\\partial}{\\partial x} f{\\left (x,y \\right )} = y - \\frac{50}{x^{2}}$$"
      ],
      "text/plain": [
       "∂                 50\n",
       "──(f(x, y)) = y - ──\n",
       "∂x                 2\n",
       "                  x "
      ]
     },
     "metadata": {},
     "output_type": "display_data"
    },
    {
     "name": "stdout",
     "output_type": "stream",
     "text": [
      "Pochodna po y to: \n"
     ]
    },
    {
     "data": {
      "text/latex": [
       "$$\\frac{\\partial}{\\partial y} f{\\left (x,y \\right )} = x - \\frac{20}{y^{2}}$$"
      ],
      "text/plain": [
       "∂                 20\n",
       "──(f(x, y)) = x - ──\n",
       "∂y                 2\n",
       "                  y "
      ]
     },
     "metadata": {},
     "output_type": "display_data"
    },
    {
     "name": "stdout",
     "output_type": "stream",
     "text": [
      "\n",
      "Punkty krytyczne to:\n"
     ]
    },
    {
     "data": {
      "text/latex": [
       "$$x = 5 \\wedge y = 2$$"
      ],
      "text/plain": [
       "x = 5 ∧ y = 2"
      ]
     },
     "metadata": {},
     "output_type": "display_data"
    }
   ],
   "source": [
    "###latex\n",
    "\n",
    "from sympy import *\n",
    "from IPython.display import display\n",
    "x, y, z, f, e = symbols('x y z f e')\n",
    "init_printing(use_latex='mathjax')\n",
    "\n",
    "def equality(A, B):\n",
    "    return \"Eq(\" + A + \",\" + B + \")\"\n",
    "\n",
    "def make_derivative(my_function, my_variable):\n",
    "    return equality(\"Derivative(\" + fexpr + \",\" + my_variable + \")\", my_function)\n",
    "\n",
    "fexpr = \"f(\"\n",
    "for var in variables:\n",
    "    fexpr = fexpr + var + \",\"\n",
    "fexpr = fexpr[:-1] + \")\"\n",
    "\n",
    "print \"Podsumowanie:\"\n",
    "print \"\"\n",
    "print \"Moja funkcja to \"\n",
    "display(eval(equality(fexpr, function_string)))\n",
    "print \"\"\n",
    "for s, var in zip(derivatives, variables): \n",
    "    print \"Pochodna po \" + var + \" to: \"\n",
    "    display(eval(make_derivative(s, var)))\n",
    "print \"\"\n",
    "\n",
    "if len(critical_points) == 0 :\n",
    "    print \"Brak punktów krytycznych ᕦ( ͡° ͜ʖ ͡°)ᕤ\"\n",
    "else :\n",
    "    print \"Punkty krytyczne to:\"\n",
    "    for s in critical_points:\n",
    "        display(eval(s))"
   ]
  }
 ],
 "metadata": {
  "kernelspec": {
   "display_name": "Python 2",
   "language": "python",
   "name": "python2"
  },
  "language_info": {
   "codemirror_mode": {
    "name": "ipython",
    "version": 2
   },
   "file_extension": ".py",
   "mimetype": "text/x-python",
   "name": "python",
   "nbconvert_exporter": "python",
   "pygments_lexer": "ipython2",
   "version": "2.7.6"
  }
 },
 "nbformat": 4,
 "nbformat_minor": 0
}
