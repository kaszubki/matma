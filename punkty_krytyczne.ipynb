{
 "cells": [
  {
   "cell_type": "code",
   "execution_count": 1,
   "metadata": {
    "collapsed": true
   },
   "outputs": [],
   "source": [
    "import wolframalpha as WA\n",
    "my_appid = \"V4K7V9-KL5PK9LK5V\""
   ]
  },
  {
   "cell_type": "code",
   "execution_count": 2,
   "metadata": {
    "collapsed": true
   },
   "outputs": [],
   "source": [
    "client = WA.Client(my_appid)"
   ]
  },
  {
   "cell_type": "code",
   "execution_count": 3,
   "metadata": {
    "collapsed": true
   },
   "outputs": [],
   "source": [
    "zmienne = ['x', 'y', 'z']"
   ]
  },
  {
   "cell_type": "code",
   "execution_count": 4,
   "metadata": {
    "collapsed": true
   },
   "outputs": [],
   "source": [
    "function_string = \"x + y^2 / (4x) + z^2 / y + 2 / z\"\n",
    "ile_zmiennych = 3"
   ]
  },
  {
   "cell_type": "code",
   "execution_count": 5,
   "metadata": {
    "collapsed": true
   },
   "outputs": [],
   "source": [
    "result = client.query(\"grad \" + function_string)"
   ]
  },
  {
   "cell_type": "code",
   "execution_count": 6,
   "metadata": {
    "collapsed": false
   },
   "outputs": [],
   "source": [
    "for pod in result.pods:\n",
    "    if pod.title.find(\"Result\") != -1:\n",
    "        s = pod.text\n",
    "        l = s.split('= ')\n",
    "        s = l[1]\n",
    "        l = s.split('\\n')\n",
    "        s = l[0]\n",
    "        if s[0] == '{':\n",
    "            s = s[1:-1]\n",
    "        l = s.split(', ')\n",
    "        derivatives = [l[i] for i in xrange(ile_zmiennych)]\n",
    "        break"
   ]
  },
  {
   "cell_type": "code",
   "execution_count": 7,
   "metadata": {
    "collapsed": false
   },
   "outputs": [],
   "source": [
    "#upiekszanie, mozna wyjebac\n",
    "derivatives = [s.replace(' ', '*') for s in derivatives]\n",
    "derivatives = [s.replace('+', ' + ') for s in derivatives]\n",
    "derivatives = [s.replace('-', ' - ') for s in derivatives]\n",
    "derivatives = [s.replace('*', ' * ') for s in derivatives]\n",
    "derivatives = [s.replace('/', ' / ') for s in derivatives]\n",
    "derivatives = [s.replace('^', ' ^ ') for s in derivatives]"
   ]
  },
  {
   "cell_type": "code",
   "execution_count": 8,
   "metadata": {
    "collapsed": false
   },
   "outputs": [
    {
     "name": "stdout",
     "output_type": "stream",
     "text": [
      "Pochodna po x to: 1 - y ^ 2 / (4 * x ^ 2)\n",
      "Pochodna po y to: y / (2 * x) - z ^ 2 / y ^ 2\n",
      "Pochodna po z to: (2 * z) / y - 2 / z ^ 2\n"
     ]
    }
   ],
   "source": [
    "for s, zmienna in zip(derivatives, zmienne[:ile_zmiennych]): \n",
    "    print \"Pochodna po \" + zmienna + \" to: \" + s"
   ]
  },
  {
   "cell_type": "code",
   "execution_count": 9,
   "metadata": {
    "collapsed": false
   },
   "outputs": [],
   "source": [
    "query_cri = \"\"\n",
    "for i in xrange(len(derivatives) - 1):\n",
    "    query_cri = query_cri + \"(\" + derivatives[i] + \" = 0\" + \") \" + \"and \"\n",
    "query_cri = query_cri + \"(\" + derivatives[len(derivatives) - 1] + \" = 0\" + \")\""
   ]
  },
  {
   "cell_type": "code",
   "execution_count": 10,
   "metadata": {
    "collapsed": false
   },
   "outputs": [],
   "source": [
    "res_cri = client.query(\"solve \" + query_cri)"
   ]
  },
  {
   "cell_type": "code",
   "execution_count": 11,
   "metadata": {
    "collapsed": false
   },
   "outputs": [],
   "source": [
    "critical_points = []\n",
    "for ple in res_cri.pods:\n",
    "    if ple.title == \"Results\" or ple.title == \"Result\":\n",
    "        for pleple in list(ple):\n",
    "            critical_points.append(pleple.text)"
   ]
  },
  {
   "cell_type": "code",
   "execution_count": 12,
   "metadata": {
    "collapsed": false
   },
   "outputs": [
    {
     "name": "stdout",
     "output_type": "stream",
     "text": [
      "Punkty krytyczne:\n",
      "['x = -1/2 ~~ -0.500000 and y = -1 and z = -1', 'x = -i/2 ~~ -0.500000 i and y = -i and z = i', 'x = i/2 ~~ 0.500000 i and y = i and z = -i', 'x = 1/2 ~~ 0.500000 and y = 1 and z = 1', 'x = -(-1)^(1/4)/2 ~~ -0.353553-0.353553 i and y = (-1)^(1/4) ~~ 0.707107+0.707107 i and z = (-1)^(3/4) ~~ -0.707107+0.707107 i', 'x = (-1)^(1/4)/2 ~~ 0.353553+0.353553 i and y = -(-1)^(1/4) ~~ -0.707107-0.707107 i and z = -(-1)^(3/4) ~~ 0.707107-0.707107 i', 'x = -1/2 (-1)^(3/4) ~~ 0.353553-0.353553 i and y = (-1)^(3/4) ~~ -0.707107+0.707107 i and z = (-1)^(1/4) ~~ 0.707107+0.707107 i', 'x = 1/2 (-1)^(3/4) ~~ -0.353553+0.353553 i and y = -(-1)^(3/4) ~~ 0.707107-0.707107 i and z = -(-1)^(1/4) ~~ -0.707107-0.707107 i']\n"
     ]
    }
   ],
   "source": [
    "print \"Punkty krytyczne:\"\n",
    "print critical_points"
   ]
  },
  {
   "cell_type": "code",
   "execution_count": 13,
   "metadata": {
    "collapsed": true
   },
   "outputs": [],
   "source": [
    "#wyrzucanie zespolonych, faza eksperymentalna\n",
    "critical_points = list(filter((lambda x : x.find('i') == -1), critical_points))"
   ]
  },
  {
   "cell_type": "code",
   "execution_count": 14,
   "metadata": {
    "collapsed": false
   },
   "outputs": [
    {
     "name": "stdout",
     "output_type": "stream",
     "text": [
      "Podsumowanie:\n",
      "\n",
      "Moja funkcja to x + y^2 / (4x) + z^2 / y + 2 / z\n",
      "\n",
      "Pochodna po x to: 1 - y ^ 2 / (4 * x ^ 2)\n",
      "Pochodna po y to: y / (2 * x) - z ^ 2 / y ^ 2\n",
      "Pochodna po z to: (2 * z) / y - 2 / z ^ 2\n",
      "\n",
      "Punkty krytyczne to:\n",
      "x = -1/2 ~~ -0.500000 and y = -1 and z = -1\n",
      "x = 1/2 ~~ 0.500000 and y = 1 and z = 1\n"
     ]
    }
   ],
   "source": [
    "print \"Podsumowanie:\"\n",
    "print \"\"\n",
    "print \"Moja funkcja to \" + function_string\n",
    "print \"\"\n",
    "for s, zmienna in zip(derivatives, zmienne[:ile_zmiennych]): \n",
    "    print \"Pochodna po \" + zmienna + \" to: \" + s\n",
    "print \"\"\n",
    "\n",
    "if len(critical_points) == 0 :\n",
    "    print \"Brak punktów krytycznych ᕦ( ͡° ͜ʖ ͡°)ᕤ\"\n",
    "else :\n",
    "    print \"Punkty krytyczne to:\"\n",
    "    for s in critical_points:\n",
    "        print s"
   ]
  },
  {
   "cell_type": "code",
   "execution_count": null,
   "metadata": {
    "collapsed": true
   },
   "outputs": [],
   "source": []
  }
 ],
 "metadata": {
  "kernelspec": {
   "display_name": "Python 2",
   "language": "python",
   "name": "python2"
  },
  "language_info": {
   "codemirror_mode": {
    "name": "ipython",
    "version": 2
   },
   "file_extension": ".py",
   "mimetype": "text/x-python",
   "name": "python",
   "nbconvert_exporter": "python",
   "pygments_lexer": "ipython2",
   "version": "2.7.6"
  }
 },
 "nbformat": 4,
 "nbformat_minor": 0
}
